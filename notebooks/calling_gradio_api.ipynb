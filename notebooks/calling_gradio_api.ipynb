{
 "cells": [
  {
   "cell_type": "code",
   "execution_count": 22,
   "metadata": {},
   "outputs": [],
   "source": [
    "api_url = 'https://4158-161-28-242-155.ngrok-free.app/'"
   ]
  },
  {
   "cell_type": "code",
   "execution_count": 23,
   "metadata": {},
   "outputs": [
    {
     "name": "stdout",
     "output_type": "stream",
     "text": [
      "Loaded as API: https://4158-161-28-242-155.ngrok-free.app/ ✔\n",
      "{'headers': [], 'data': [[]], 'metadata': None}\n"
     ]
    }
   ],
   "source": [
    "from gradio_client import Client\n",
    "\n",
    "client = Client(api_url)\n",
    "result = client.predict(api_name=\"/_list_ingested_files\")\n",
    "print(result)"
   ]
  },
  {
   "cell_type": "code",
   "execution_count": 24,
   "metadata": {},
   "outputs": [
    {
     "name": "stdout",
     "output_type": "stream",
     "text": [
      "Loaded as API: https://4158-161-28-242-155.ngrok-free.app/ ✔\n",
      "{'placeholder': \"You can only answer questions about the provided context.  If you know the answer but it is not based in the provided context, don't provide  the answer, just state the answer is not in the context provided.\\n\", 'interactive': True, '__type__': 'update'}\n"
     ]
    }
   ],
   "source": [
    "from gradio_client import Client\n",
    "\n",
    "client = Client(api_url)\n",
    "result = client.predict('Query Docs',\t# Literal[Query Docs, Search in Docs, LLM Chat]  in 'Mode' Radio component\n",
    "                        api_name=\"/_set_current_mode\"\n",
    ")\n",
    "print(result)"
   ]
  },
  {
   "cell_type": "code",
   "execution_count": 27,
   "metadata": {},
   "outputs": [
    {
     "name": "stdout",
     "output_type": "stream",
     "text": [
      "Loaded as API: https://4158-161-28-242-155.ngrok-free.app/ ✔\n",
      "()\n"
     ]
    }
   ],
   "source": [
    "from gradio_client import Client\n",
    "\n",
    "client = Client(api_url)\n",
    "result = client.predict(\"How can I help you today?\",\t# str  in 'System Prompt' Textbox component\n",
    "                        api_name=\"/_set_system_prompt\"\n",
    ")\n",
    "print(result)"
   ]
  },
  {
   "cell_type": "code",
   "execution_count": null,
   "metadata": {},
   "outputs": [],
   "source": [
    "from gradio_client import Client\n",
    "\n",
    "client = Client(\"https://4158-161-28-242-155.ngrok-free.app/\")\n",
    "result = client.predict(\n",
    "\t\t\"Hello!!\",\t# str  in 'Message' Textbox component\n",
    "\t\tQuery Docs,\t# Literal[Query Docs, Search in Docs, LLM Chat]  in 'Mode' Radio component\n",
    "\t\t[\"https://github.com/gradio-app/gradio/raw/main/test/test_files/sample_file.pdf\"],\t# List[filepath]  in 'Upload File(s)' Uploadbutton component\n",
    "\t\t\"Hello!!\",\t# str  in 'System Prompt' Textbox component\n",
    "\t\t\t\t\t\t\tapi_name=\"/chat\"\n",
    ")\n",
    "print(result)"
   ]
  },
  {
   "cell_type": "code",
   "execution_count": 17,
   "metadata": {},
   "outputs": [
    {
     "name": "stdout",
     "output_type": "stream",
     "text": [
      "Loaded as API: https://4158-161-28-242-155.ngrok-free.app/ ✔\n",
      " CS2450, also known as \"Advanced Data Structures and Algorithms,\" is a graduate-level computer science course. The specific prerequisites may vary depending on the university or institution offering the course, but generally, students are expected to have a strong foundation in programming concepts and data structures. Here are some common prerequisites:\n",
      "\n",
      "1. Programming proficiency: Students should be comfortable with at least one programming language, such as C++, Java, or Python.\n",
      "2. Data structures: A solid understanding of basic data structures like arrays, linked lists, stacks, queues, trees, hash tables, and graphs is essential.\n",
      "3. Algorithmic thinking: Students should be familiar with common algorithms and their time complexities, such as sorting algorithms (Merge Sort, Quick Sort, Heap Sort), searching algorithms (Binary Search), graph traversal algorithms (DFS, BFS), and dynamic programming algorithms.\n",
      "4. Mathematical background: A strong foundation in mathematics, including linear algebra, probability theory, and discrete mathematics, can be helpful in understanding advanced data structures and algorithms.\n",
      "\n",
      "It's essential to consult the specific syllabus or department website for the most accurate information regarding prerequisites for a particular CS2450 or similar course.\n"
     ]
    }
   ],
   "source": [
    "from gradio_client import Client\n",
    "\n",
    "# Initialize the client with your API URL\n",
    "client = Client(\"https://4158-161-28-242-155.ngrok-free.app/\")\n",
    "\n",
    "# Start a chat by sending a simple message in the desired mode.\n",
    "# Assuming \"LLM Chat\" mode is what you intend to use for a general chat.\n",
    "result = client.predict(\n",
    "    \"What is the prerequisit of cs2450?\",  #[INS][INS] The message you want to send to the chat\n",
    "    \"LLM Chat\",  #Literal[Query Docs, Search in Docs, LLM Chat]\n",
    "    [],  # No files to upload\n",
    "    \"The following is a conversation you will work as a UVU advisor. You are very helpful but sarcastic.\", # <s></s>  # The system prompt you want to use for the chat # Example: \"The following is a conversation you will work as a UVU advisor. You are very helpful, creative, and very friendly.\"# Example: \"The following is a conversation you will work as a UVU advisor. You are very helpful but sarcastic.\"\n",
    "    api_name=\"/chat\"\n",
    ")\n",
    "\n",
    "# Print the response from the chat \n",
    "print(result)\n"
   ]
  },
  {
   "cell_type": "code",
   "execution_count": 29,
   "metadata": {},
   "outputs": [
    {
     "name": "stdout",
     "output_type": "stream",
     "text": [
      "{'id': 'cec7701b-8961-468c-9138-7b872a57bf61', 'object': 'completion', 'created': 1707572305, 'model': 'private-gpt', 'choices': [{'finish_reason': 'stop', 'delta': None, 'message': {'role': 'assistant', 'content': ' CS 2420, also known as \"Data Structures and Algorithms I\" or \"Introduction to Algorithms,\" is a computer science course that typically builds upon the foundational knowledge gained in an introductory programming course (such as CS 1110 or CS 101) and discrete mathematics. Here are some common prerequisites for CS 2420:\\n\\n1. Programming skills: Students should be proficient in at least one programming language. Familiarity with C++, Java, Python, or another similar language is often required.\\n\\n2. Discrete mathematics: A strong understanding of discrete mathematics concepts such as sets, logic, functions, relations, and mathematical proofs is essential for understanding algorithms and data structures.\\n\\n3. Familiarity with Big O notation: Students should be comfortable with analyzing algorithms\\' time complexity using Big O notation.\\n\\n4. Basic data structures: A good understanding of basic data structures like arrays, linked lists, stacks, queues, trees, hash tables, and graphs is necessary for this course.\\n\\n5. Basic algorithmic concepts: Students should be familiar with common algorithmic concepts like recursion, divide and conquer, dynamic programming, and greedy algorithms.\\n\\n6. Basic linear algebra: Some algorithms may involve linear algebra concepts like matrix multiplication, vector spaces, and eigenvectors.\\n\\n7. Basic probability theory: Some algorithms may involve probability theory concepts like Markov chains, random walks, and Monte Carlo simulations.\\n\\n8. Basic calculus: Some advanced data structures and algorithms may require a basic understanding of calculus concepts like limits, derivatives, and integrals.\\n\\n9. Familiarity with Unix/Linux environment: Students may be required to use Unix/Linux tools for compiling, testing, and debugging their code.\\n\\n10. Strong problem-solving skills: The ability to analyze complex problems, design algorithms, and implement them efficiently is crucial for success in this course.\\n\\nIt\\'s important to note that prerequisites may vary depending on the specific institution and instructor. Students should consult their department\\'s website or speak with their academic advisor for more information.'}, 'sources': [], 'index': 0}]}\n"
     ]
    }
   ],
   "source": [
    "import requests\n",
    "\n",
    "url = \"https://4158-161-28-242-155.ngrok-free.app/v1/chat/completions\"\n",
    "data = {\n",
    "    \"messages\": [\n",
    "        {\"content\": \"What are some pre-requisit of cs 2420\", \"role\": \"user\"}\n",
    "    ],\n",
    "    \"use_context\": False,  # Assuming default behavior without context usage\n",
    "    \"include_sources\": True,  # Assuming you want to include sources if available\n",
    "    \"stream\": False  # Assuming non-streaming response\n",
    "}\n",
    "\n",
    "# Include appropriate headers if authentication is required\n",
    "headers = {\n",
    "    \"Content-Type\": \"application/json\",\n",
    "}\n",
    "\n",
    "response = requests.post(url, json=data, headers=headers)\n",
    "print(response.json())\n"
   ]
  },
  {
   "cell_type": "code",
   "execution_count": 48,
   "metadata": {},
   "outputs": [
    {
     "name": "stdout",
     "output_type": "stream",
     "text": [
      " CS 2420, also known as \"Data Structures and Algorithms I\" or \"Introduction to Algorithms,\" is a computer science course that typically builds upon the foundational knowledge gained in an introductory programming course (such as CS 1110 or CS 101) and discrete mathematics. Here are some common prerequisites for CS 2420:\n",
      "\n",
      "1. Programming skills: Students should be proficient in at least one programming language. Familiarity with C++, Java, Python, or another similar language is often required.\n",
      "\n",
      "2. Discrete mathematics: A strong understanding of discrete mathematics concepts such as sets, logic, functions, relations, and mathematical proofs is essential for understanding algorithms and data structures.\n",
      "\n",
      "3. Familiarity with Big O notation: Students should be comfortable with analyzing algorithms' time complexity using Big O notation.\n",
      "\n",
      "4. Basic data structures: A good understanding of basic data structures like arrays, linked lists, stacks, queues, trees, hash tables, and graphs is necessary for this course.\n",
      "\n",
      "5. Basic algorithmic concepts: Students should be familiar with common algorithmic concepts like recursion, divide and conquer, dynamic programming, and greedy algorithms.\n",
      "\n",
      "6. Basic linear algebra: Some algorithms may involve linear algebra concepts like matrix multiplication, vector spaces, and eigenvectors.\n",
      "\n",
      "7. Basic probability theory: Some algorithms may involve probability theory concepts like Markov chains, random walks, and Monte Carlo simulations.\n",
      "\n",
      "8. Basic calculus: Some advanced data structures and algorithms may require a basic understanding of calculus concepts like limits, derivatives, and integrals.\n",
      "\n",
      "9. Familiarity with Unix/Linux environment: Students may be required to use Unix/Linux tools for compiling, testing, and debugging their code.\n",
      "\n",
      "10. Strong problem-solving skills: The ability to analyze complex problems, design algorithms, and implement them efficiently is crucial for success in this course.\n",
      "\n",
      "It's important to note that prerequisites may vary depending on the specific institution and instructor. Students should consult their department's website or speak with their academic advisor for more information.\n"
     ]
    }
   ],
   "source": [
    "print(response.json()['choices'][0]['message']['content'])"
   ]
  },
  {
   "cell_type": "code",
   "execution_count": 47,
   "metadata": {},
   "outputs": [
    {
     "name": "stdout",
     "output_type": "stream",
     "text": [
      "\" CS 2420, also known as \\\"Data Structures and Algorithms I\\\" or \\\"Introduction to Algorithms,\\\" is a computer science course that typically builds upon the foundational knowledge gained in an introductory programming course (such as CS 1110 or CS 101) and discrete mathematics. Here are some common prerequisites for CS 2420:\\n\\n1. Programming skills: Students should be proficient in at least one programming language. Familiarity with C++, Java, Python, or another similar language is often required.\\n\\n2. Discrete mathematics: A strong understanding of discrete mathematics concepts such as sets, logic, functions, relations, and mathematical proofs is essential for understanding algorithms and data structures.\\n\\n3. Familiarity with Big O notation: Students should be comfortable with analyzing algorithms' time complexity using Big O notation.\\n\\n4. Basic data structures: A good understanding of basic data structures like arrays, linked lists, stacks, queues, trees, hash tables, and graphs is necessary for this course.\\n\\n5. Basic algorithmic concepts: Students should be familiar with common algorithmic concepts like recursion, divide and conquer, dynamic programming, and greedy algorithms.\\n\\n6. Basic linear algebra: Some algorithms may involve linear algebra concepts like matrix multiplication, vector spaces, and eigenvectors.\\n\\n7. Basic probability theory: Some algorithms may involve probability theory concepts like Markov chains, random walks, and Monte Carlo simulations.\\n\\n8. Basic calculus: Some advanced data structures and algorithms may require a basic understanding of calculus concepts like limits, derivatives, and integrals.\\n\\n9. Familiarity with Unix/Linux environment: Students may be required to use Unix/Linux tools for compiling, testing, and debugging their code.\\n\\n10. Strong problem-solving skills: The ability to analyze complex problems, design algorithms, and implement them efficiently is crucial for success in this course.\\n\\nIt's important to note that prerequisites may vary depending on the specific institution and instructor. Students should consult their department's website or speak with their academic advisor for more information.\"\n"
     ]
    }
   ],
   "source": [
    "import json\n",
    "print(json.dumps(response.json()['choices'][0]['message']['content'], indent=4))"
   ]
  },
  {
   "cell_type": "markdown",
   "metadata": {},
   "source": [
    "## Terminologies\n",
    "### `system prompt` \n",
    "- Initial message or question presented by the system to the user. \n",
    "This prompt sets the context or guides the user on how to interact with the system. \n",
    "> \"How can I help you today?\" \n",
    "    - This is asked at the beginning of the conversation to understand the user's intent."
   ]
  }
 ],
 "metadata": {
  "kernelspec": {
   "display_name": "swe_24_1",
   "language": "python",
   "name": "python3"
  },
  "language_info": {
   "codemirror_mode": {
    "name": "ipython",
    "version": 3
   },
   "file_extension": ".py",
   "mimetype": "text/x-python",
   "name": "python",
   "nbconvert_exporter": "python",
   "pygments_lexer": "ipython3",
   "version": "3.11.7"
  }
 },
 "nbformat": 4,
 "nbformat_minor": 2
}
