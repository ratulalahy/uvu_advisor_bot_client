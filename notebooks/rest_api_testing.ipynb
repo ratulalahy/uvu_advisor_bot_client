{
 "cells": [
  {
   "cell_type": "code",
   "execution_count": 1,
   "metadata": {},
   "outputs": [],
   "source": [
    "import requests\n",
    "\n",
    "class BaseAPI:\n",
    "    def __init__(self, base_url=\"https://4158-161-28-242-155.ngrok-free.app/v1\"):\n",
    "        self.base_url = base_url\n",
    "        self.headers = {\"Accept\": \"application/json\"}  # Removed \"Content-Type\" for flexibility\n",
    "\n",
    "    def _post(self, endpoint, data=None, files=None):\n",
    "        url = f\"{self.base_url}/{endpoint}\"\n",
    "        headers = self.headers\n",
    "        if files:\n",
    "            # For file uploads, do not include JSON data and let requests handle content-type\n",
    "            response = requests.post(url, files=files, headers=headers)\n",
    "        else:\n",
    "            # For JSON data, specify json parameter\n",
    "            response = requests.post(url, json=data, headers=headers)\n",
    "        try:\n",
    "            response.raise_for_status()\n",
    "            return response.json()\n",
    "        except requests.exceptions.HTTPError as e:\n",
    "            print(f\"HTTP Error: {e.response.status_code} {e.response.text}\")\n",
    "        except Exception as e:\n",
    "            print(f\"Unexpected Error: {str(e)}\")\n",
    "        return None\n",
    "\n",
    "    def _get(self, endpoint):\n",
    "        url = f\"{self.base_url}/{endpoint}\"\n",
    "        response = requests.get(url, headers=self.headers)\n",
    "        return response.json()"
   ]
  },
  {
   "cell_type": "code",
   "execution_count": 34,
   "metadata": {},
   "outputs": [],
   "source": [
    "\n",
    "class ChatCompletionAPI(BaseAPI):\n",
    "    def __init__(self, base_url=\"https://4158-161-28-242-155.ngrok-free.app/v1\"):\n",
    "        super().__init__(base_url)\n",
    "        self.conversation_history = []\n",
    "    \n",
    "    def post_completions(self, messages, role = None, stream=True):\n",
    "        \"\"\"\n",
    "        Post messages to the chat completions endpoint.\n",
    "        \n",
    "        :param messages: A list of message dictionaries with \"content\" and \"role\" keys.\n",
    "        :param stream: Boolean to enable or disable streaming.\n",
    "        \"\"\"\n",
    "        endpoint = \"completions\"\n",
    "        if role:\n",
    "            payload = {\"prompt\": messages, \"role\": role, \"stream\": stream}\n",
    "        else:\n",
    "            payload = {\"prompt\": messages, \"stream\": stream}\n",
    "        response = self._post(endpoint, payload)\n",
    "        return response\n",
    "\n",
    "    def post_chat_completions(self, message, role = 'user', is_init = False, stream=False):\n",
    "        endpoint = \"chat/completions\"\n",
    "        if is_init:\n",
    "            self.conversation_history = []  # Clear existing conversation history\n",
    "            self.conversation_history.append({\"content\": message, \"role\": role})\n",
    "            return\n",
    "\n",
    "        # Add the new message with its role to the conversation history\n",
    "        self.conversation_history.append({\"content\": message, \"role\": role})\n",
    "\n",
    "        payload = {\n",
    "            \"messages\": self.conversation_history#,\n",
    "            #\"stream\": stream\n",
    "        }\n",
    "        response = self._post(endpoint, payload)  # And here\n",
    "        return response\n"
   ]
  },
  {
   "cell_type": "code",
   "execution_count": 3,
   "metadata": {},
   "outputs": [],
   "source": [
    "class IngestAPI(BaseAPI):\n",
    "    def ingest_file(self, file_path):\n",
    "        \"\"\"Ingest a file to a specific endpoint.\"\"\"\n",
    "        endpoint = \"ingest/file\"\n",
    "        with open(file_path, 'rb') as f:\n",
    "            files = {'file': (file_path.split('/')[-1], f)}\n",
    "            response = self._post(endpoint, files=files)\n",
    "        return response\n",
    "\n",
    "    def ingest_text(self, file_name, text):\n",
    "        \"\"\"Ingest text with a file name.\"\"\"\n",
    "        endpoint = \"ingest/text\"\n",
    "        payload = {\"file_name\": file_name, \"text\": text}\n",
    "        return self._post(endpoint, data=payload)\n",
    "\n",
    "    def list_ingest_jobs(self):\n",
    "        \"\"\"List all ingest jobs.\"\"\"\n",
    "        endpoint = \"ingest/list\"\n",
    "        return self._get(endpoint)"
   ]
  },
  {
   "cell_type": "code",
   "execution_count": 5,
   "metadata": {},
   "outputs": [],
   "source": [
    "class UtilAPI(BaseAPI):\n",
    "    def get_embeddings(self, input_text):\n",
    "        \"\"\"Post data to the embeddings endpoint.\"\"\"\n",
    "        endpoint = \"embeddings\"\n",
    "        payload = {\"input\": input_text}\n",
    "        return self._post(endpoint, data=payload)\n",
    "\n",
    "    def check_health(self):\n",
    "        \"\"\"Get the health status of the API.\"\"\"\n",
    "        endpoint = \"health\"\n",
    "        return self._get(endpoint)\n",
    "    \n",
    "    def post_chunks(self, text):\n",
    "        \"\"\"Post chunks of text.\"\"\"\n",
    "        endpoint = \"chunks\"\n",
    "        payload = {\"text\": text}\n",
    "        return self._post(endpoint, data=payload)"
   ]
  },
  {
   "cell_type": "markdown",
   "metadata": {},
   "source": [
    "## Chatting"
   ]
  },
  {
   "cell_type": "code",
   "execution_count": 35,
   "metadata": {},
   "outputs": [],
   "source": [
    "chat_api = ChatCompletionAPI()"
   ]
  },
  {
   "cell_type": "code",
   "execution_count": 36,
   "metadata": {},
   "outputs": [
    {
     "name": "stdout",
     "output_type": "stream",
     "text": [
      "{'id': '24f50f47-09d4-429b-85fb-04eea80e04bf', 'object': 'completion', 'created': 1707737998, 'model': 'private-gpt', 'choices': [{'finish_reason': 'stop', 'delta': None, 'message': {'role': 'assistant', 'content': ' CS 2450, which is often referred to as \"Data Structures and Algorithms II\" or \"Advanced Data Structures,\" is typically a graduate-level computer science course. The specific prerequisites for this course can vary depending on the university or college offering it. However, here are some common prerequisites:\\n\\n1. A strong foundation in programming concepts: Students should have a good understanding of programming fundamentals such as variables, control structures, functions, arrays, pointers, and data structures like linked lists and trees.\\n2. Familiarity with a programming language: Students should be proficient in at least one programming language, such as C++, Java, Python, or C#.\\n3. Basic knowledge of data structures: Students should have a good understanding of common data structures like arrays, linked lists, stacks, queues, trees, hash tables, and graphs.\\n4. Basic knowledge of algorithms: Students should have a good understanding of basic algorithms like sorting algorithms (e.g., bubble sort, insertion sort, merge sort), searching algorithms (e.g., linear search, binary search), and graph algorithms (e.g., depth-first search, breadth-first search).\\n5. Mathematical background: Students should have a good understanding of mathematical concepts such as Big O notation, recursion, and graph theory.\\n\\nIt\\'s important to note that the specific prerequisites for CS 2450 can vary from one institution to another, so it\\'s always a good idea to check with the department offering the course for the most accurate information.'}, 'sources': [], 'index': 0}]}\n"
     ]
    }
   ],
   "source": [
    "chat_api = ChatCompletionAPI()\n",
    "\n",
    "messages = \"What is cs 2450 prerequisit?\"\n",
    "\n",
    "response = chat_api.post_completions(messages, stream=False)\n",
    "print(response)\n"
   ]
  },
  {
   "cell_type": "code",
   "execution_count": 37,
   "metadata": {},
   "outputs": [
    {
     "name": "stdout",
     "output_type": "stream",
     "text": [
      "{'id': '75844b82-4d30-4b5a-875d-68564c37dba4', 'object': 'completion', 'created': 1707738009, 'model': 'private-gpt', 'choices': [{'finish_reason': 'stop', 'delta': None, 'message': {'role': 'assistant', 'content': ' CS 2450, which is often referred to as \"Data Structures and Algorithms II\" or \"Advanced Data Structures,\" is typically a graduate-level computer science course. The specific prerequisites for this course can vary depending on the university or college offering it. However, here are some common prerequisites:\\n\\n1. A strong foundation in programming concepts: Students should have a good understanding of programming fundamentals such as variables, control structures (if statements, loops), functions, arrays, and pointers.\\n2. Familiarity with a programming language: Students should be proficient in at least one programming language, such as C++, Java, Python, or C#.\\n3. Basic knowledge of data structures: Students should have a solid understanding of basic data structures such as arrays, linked lists, stacks, queues, trees, and hash tables.\\n4. Basic knowledge of algorithms: Students should have a good understanding of basic algorithms such as sorting algorithms (e.g., bubble sort, merge sort, quicksort), searching algorithms (e.g., linear search, binary search), and graph algorithms (e.g., depth-first search, breadth-first search).\\n\\nIt\\'s important to note that the specific prerequisites for CS 2450 can vary from one institution to another, so students should consult their academic advisors or the course syllabus for the most accurate information.'}, 'sources': [], 'index': 0}]}\n"
     ]
    }
   ],
   "source": [
    "messages = \"What is cs 2450 prerequisit?\"\n",
    "response = chat_api.post_completions(messages, role='user', stream=False)\n",
    "print(response)"
   ]
  },
  {
   "cell_type": "code",
   "execution_count": 38,
   "metadata": {},
   "outputs": [
    {
     "name": "stdout",
     "output_type": "stream",
     "text": [
      "Stream Response: {'id': 'f98d9002-77d5-4023-8ea0-6d156c5e5ed9', 'object': 'completion', 'created': 1707738018, 'model': 'private-gpt', 'choices': [{'finish_reason': 'stop', 'delta': None, 'message': {'role': 'assistant', 'content': ' CS 2450, which is \"Data Structures and Algorithms II\" at Utah Valley University (UVU), typically has the following prerequisites:\\n\\n1. CS 1510: Introduction to Computer Science I\\n2. CS 1520: Introduction to Computer Science II\\n3. CS 2410: Data Structures and Algorithms I\\n\\nIt\\'s essential to note that students should consult the UVU catalog or speak with an academic advisor to confirm the most up-to-date prerequisites and any potential exceptions.\\n\\nCS 1510 and CS 1520 provide the fundamental programming concepts and skills needed for more advanced courses like CS 2450. CS 2410 focuses on data structures and algorithms, building a strong foundation for the advanced topics covered in CS 2450.\\n\\nIf you have any further questions or need clarification on the prerequisites or course content, please don\\'t hesitate to ask.'}, 'sources': [], 'index': 0}]}\n"
     ]
    }
   ],
   "source": [
    "# Post chat completions with streaming enabled\n",
    "stream_response = chat_api.post_chat_completions(\"You are UVU Advisor\", role='system', stream=True, is_init=True)\n",
    "stream_response = chat_api.post_chat_completions(\"What is cs 2450 prerequisit?\", role='user', stream=True, is_init=False)\n",
    "print(\"Stream Response:\", stream_response)\n"
   ]
  },
  {
   "cell_type": "markdown",
   "metadata": {},
   "source": [
    "##  IngestAPI"
   ]
  },
  {
   "cell_type": "code",
   "execution_count": 10,
   "metadata": {},
   "outputs": [
    {
     "name": "stdout",
     "output_type": "stream",
     "text": [
      "Making request to: https://4158-161-28-242-155.ngrok-free.app/v1/ingest/file with data: {'file': <_io.BufferedReader name='/Users/qratul/uvu/courses/swe/spring_24/project/base/uvu_advisor_bot_client/data/uvu_docs/course_catelog_cs_uvu.json'>}\n",
      "Unexpected Error: Object of type BufferedReader is not JSON serializable\n",
      "File Ingest Response: None\n"
     ]
    }
   ],
   "source": [
    "file_paths = [\n",
    "    ('/Users/qratul/uvu/courses/swe/spring_24/project/base/uvu_advisor_bot_client/data/uvu_docs/course_catelog_cs_uvu.pdf', 'application/octet-stream'),\n",
    "    ('/Users/qratul/uvu/courses/swe/spring_24/project/base/uvu_advisor_bot_client/data/uvu_docs/course_catelog_cs_uvu.txt', 'application/octet-stream')\n",
    "]\n",
    "\n",
    "files = [\n",
    "    ('file', (file_path.split('/')[-1], open(file_path, 'rb'), content_type))\n",
    "    for file_path, content_type in file_paths\n",
    "]\n",
    "\n",
    "response = requests.post(url, files=files)\n",
    "\n",
    "# Correctly close the files after the request is made\n",
    "for _, file_tuple in files:\n",
    "    file_object = file_tuple[1]\n",
    "    file_object.close()\n",
    "\n",
    "print(response.text)"
   ]
  },
  {
   "cell_type": "code",
   "execution_count": null,
   "metadata": {},
   "outputs": [],
   "source": [
    "# Initialize the utility API client\n",
    "util_api = UtilAPI()\n",
    "\n",
    "# Get embeddings\n",
    "embeddings_response = util_api.get_embeddings(\"This is a test sentence.\")\n",
    "print(\"Embeddings Response:\", embeddings_response)\n",
    "\n",
    "# Check health\n",
    "health_response = util_api.check_health()\n",
    "print(\"Health Response:\", health_response)\n",
    "\n",
    "# Post chunks of text\n",
    "chunks_response = util_api.post_chunks(\"This is a test sentence for chunking.\")\n",
    "print(\"Chunks Response:\", chunks_response)\n"
   ]
  },
  {
   "cell_type": "code",
   "execution_count": null,
   "metadata": {},
   "outputs": [],
   "source": []
  },
  {
   "cell_type": "code",
   "execution_count": null,
   "metadata": {},
   "outputs": [],
   "source": []
  },
  {
   "cell_type": "code",
   "execution_count": null,
   "metadata": {},
   "outputs": [],
   "source": []
  },
  {
   "cell_type": "code",
   "execution_count": null,
   "metadata": {},
   "outputs": [],
   "source": []
  },
  {
   "cell_type": "markdown",
   "metadata": {},
   "source": [
    "### Totally tesitng\n"
   ]
  },
  {
   "cell_type": "code",
   "execution_count": 12,
   "metadata": {},
   "outputs": [],
   "source": [
    "\n",
    "import requests\n",
    "\n",
    "class GPTAPI:\n",
    "    base_url = 'https://4158-161-28-242-155.ngrok-free.app/v1'\n",
    "\n",
    "    def __init__(self, api_key):\n",
    "        self.api_key = api_key\n",
    "\n",
    "    def make_request(self, endpoint, data):\n",
    "        headers = {\n",
    "            'Authorization': f'Bearer {self.api_key}',\n",
    "            'Content-Type': 'application/json'\n",
    "        }\n",
    "        response = requests.post(f'{self.base_url}/{endpoint}', json=data, headers=headers)\n",
    "        return response.json()\n"
   ]
  },
  {
   "cell_type": "code",
   "execution_count": 13,
   "metadata": {},
   "outputs": [],
   "source": [
    "class CompletionAPI(GPTAPI):\n",
    "    def __init__(self, api_key, streaming=False):\n",
    "        super().__init__(api_key)\n",
    "        self.endpoint = 'completions'\n",
    "        self.streaming = streaming\n",
    "\n",
    "    def complete(self, prompt, **kwargs):\n",
    "        data = {'prompt': prompt, 'stream': self.streaming, **kwargs}\n",
    "        return self.make_request(self.endpoint, data)\n",
    "\n",
    "class ChatCompletionAPI(GPTAPI):\n",
    "    def __init__(self, api_key, streaming=False):\n",
    "        super().__init__(api_key)\n",
    "        self.endpoint = 'chat/completions'\n",
    "        self.streaming = streaming\n",
    "\n",
    "    def chat(self, messages, **kwargs):\n",
    "        data = {'messages': messages, 'stream': self.streaming, **kwargs}\n",
    "        return self.make_request(self.endpoint, data)\n"
   ]
  },
  {
   "cell_type": "code",
   "execution_count": 15,
   "metadata": {},
   "outputs": [
    {
     "name": "stdout",
     "output_type": "stream",
     "text": [
      "{'id': 'da36ddce-4b3b-4e71-b178-089f6f627c75', 'object': 'completion', 'created': 1707644164, 'model': 'private-gpt', 'choices': [{'finish_reason': 'stop', 'delta': None, 'message': {'role': 'assistant', 'content': ' Hello there! It\\'s nice to meet you. How can I help you today? If you have any questions or topics you\\'d like me to write about, feel free to ask. I\\'m here to provide information and answer questions to the best of my ability. Let me know if you have any specific topic in mind or if you have any general questions. I\\'ll do my best to provide accurate and helpful responses. Let me know if you have any preferences for length or format of the response as well. I look forward to helping you out!\\n\\nHere is a simple \"Hello, World!\" program in various programming languages for your reference:\\n\\n* C:\\n```c\\n#include <stdio.h>\\n\\nint main() {\\n  printf(\"Hello, World!\\\\n\");\\n  return 0;\\n}\\n```\\n\\n* Java:\\n```java\\npublic class HelloWorld {\\n  public static void main(String[] args) {\\n    System.out.println(\"Hello, World!\");\\n  }\\n}\\n```\\n\\n* Python:\\n```python\\nprint(\"Hello, World!\")\\n```\\n\\n* JavaScript:\\n```javascript\\nconsole.log(\"Hello, World!\");\\n```\\n\\n* Ruby:\\n```ruby\\nputs \"Hello, World!\"\\n```\\n\\n* Swift:\\n```swift\\nprint(\"Hello, World!\")\\n```\\n\\n* Go:\\n```go\\npackage main\\n\\nimport \"fmt\"\\n\\nfunc main() {\\n  fmt.Println(\"Hello, World!\")\\n}\\n```\\n\\n* Rust:\\n```rust\\nfn main() {\\n  println!(\"Hello, World!\");\\n}\\n```\\n\\n* Kotlin:\\n```kotlin\\nfun main() {\\n  println(\"Hello, World!\")\\n}\\n```\\n\\n* TypeScript:\\n```typescript\\nconsole.log(\"Hello, World!\");\\n```\\n\\n* Dart:\\n```dart\\nvoid main() {\\n  print(\"Hello, World!\");\\n}\\n```\\n\\n* PHP:\\n```php\\n<?php\\necho \"Hello, World!\";\\n?>\\n```\\n\\n* Perl:\\n```perl\\nprint \"Hello, World!\\\\n\";\\n```'}, 'sources': [], 'index': 0}]}\n"
     ]
    }
   ],
   "source": [
    "api_key = 'your_api_key_here'\n",
    "\n",
    "# Example: Non-streaming completion\n",
    "completion_api = CompletionAPI(api_key, streaming=False)\n",
    "response = completion_api.complete(prompt=\"Hello, world!\", use_context=False)\n",
    "print(response)\n",
    "\n",
    "\n"
   ]
  },
  {
   "cell_type": "code",
   "execution_count": 16,
   "metadata": {},
   "outputs": [
    {
     "ename": "JSONDecodeError",
     "evalue": "Expecting value: line 1 column 1 (char 0)",
     "output_type": "error",
     "traceback": [
      "\u001b[0;31m---------------------------------------------------------------------------\u001b[0m",
      "\u001b[0;31mJSONDecodeError\u001b[0m                           Traceback (most recent call last)",
      "File \u001b[0;32m~/anaconda3/envs/swe_24_1/lib/python3.11/site-packages/requests/models.py:971\u001b[0m, in \u001b[0;36mResponse.json\u001b[0;34m(self, **kwargs)\u001b[0m\n\u001b[1;32m    970\u001b[0m \u001b[38;5;28;01mtry\u001b[39;00m:\n\u001b[0;32m--> 971\u001b[0m     \u001b[38;5;28;01mreturn\u001b[39;00m \u001b[43mcomplexjson\u001b[49m\u001b[38;5;241;43m.\u001b[39;49m\u001b[43mloads\u001b[49m\u001b[43m(\u001b[49m\u001b[38;5;28;43mself\u001b[39;49m\u001b[38;5;241;43m.\u001b[39;49m\u001b[43mtext\u001b[49m\u001b[43m,\u001b[49m\u001b[43m \u001b[49m\u001b[38;5;241;43m*\u001b[39;49m\u001b[38;5;241;43m*\u001b[39;49m\u001b[43mkwargs\u001b[49m\u001b[43m)\u001b[49m\n\u001b[1;32m    972\u001b[0m \u001b[38;5;28;01mexcept\u001b[39;00m JSONDecodeError \u001b[38;5;28;01mas\u001b[39;00m e:\n\u001b[1;32m    973\u001b[0m     \u001b[38;5;66;03m# Catch JSON-related errors and raise as requests.JSONDecodeError\u001b[39;00m\n\u001b[1;32m    974\u001b[0m     \u001b[38;5;66;03m# This aliases json.JSONDecodeError and simplejson.JSONDecodeError\u001b[39;00m\n",
      "File \u001b[0;32m~/anaconda3/envs/swe_24_1/lib/python3.11/json/__init__.py:346\u001b[0m, in \u001b[0;36mloads\u001b[0;34m(s, cls, object_hook, parse_float, parse_int, parse_constant, object_pairs_hook, **kw)\u001b[0m\n\u001b[1;32m    343\u001b[0m \u001b[38;5;28;01mif\u001b[39;00m (\u001b[38;5;28mcls\u001b[39m \u001b[38;5;129;01mis\u001b[39;00m \u001b[38;5;28;01mNone\u001b[39;00m \u001b[38;5;129;01mand\u001b[39;00m object_hook \u001b[38;5;129;01mis\u001b[39;00m \u001b[38;5;28;01mNone\u001b[39;00m \u001b[38;5;129;01mand\u001b[39;00m\n\u001b[1;32m    344\u001b[0m         parse_int \u001b[38;5;129;01mis\u001b[39;00m \u001b[38;5;28;01mNone\u001b[39;00m \u001b[38;5;129;01mand\u001b[39;00m parse_float \u001b[38;5;129;01mis\u001b[39;00m \u001b[38;5;28;01mNone\u001b[39;00m \u001b[38;5;129;01mand\u001b[39;00m\n\u001b[1;32m    345\u001b[0m         parse_constant \u001b[38;5;129;01mis\u001b[39;00m \u001b[38;5;28;01mNone\u001b[39;00m \u001b[38;5;129;01mand\u001b[39;00m object_pairs_hook \u001b[38;5;129;01mis\u001b[39;00m \u001b[38;5;28;01mNone\u001b[39;00m \u001b[38;5;129;01mand\u001b[39;00m \u001b[38;5;129;01mnot\u001b[39;00m kw):\n\u001b[0;32m--> 346\u001b[0m     \u001b[38;5;28;01mreturn\u001b[39;00m \u001b[43m_default_decoder\u001b[49m\u001b[38;5;241;43m.\u001b[39;49m\u001b[43mdecode\u001b[49m\u001b[43m(\u001b[49m\u001b[43ms\u001b[49m\u001b[43m)\u001b[49m\n\u001b[1;32m    347\u001b[0m \u001b[38;5;28;01mif\u001b[39;00m \u001b[38;5;28mcls\u001b[39m \u001b[38;5;129;01mis\u001b[39;00m \u001b[38;5;28;01mNone\u001b[39;00m:\n",
      "File \u001b[0;32m~/anaconda3/envs/swe_24_1/lib/python3.11/json/decoder.py:337\u001b[0m, in \u001b[0;36mJSONDecoder.decode\u001b[0;34m(self, s, _w)\u001b[0m\n\u001b[1;32m    333\u001b[0m \u001b[38;5;250m\u001b[39m\u001b[38;5;124;03m\"\"\"Return the Python representation of ``s`` (a ``str`` instance\u001b[39;00m\n\u001b[1;32m    334\u001b[0m \u001b[38;5;124;03mcontaining a JSON document).\u001b[39;00m\n\u001b[1;32m    335\u001b[0m \n\u001b[1;32m    336\u001b[0m \u001b[38;5;124;03m\"\"\"\u001b[39;00m\n\u001b[0;32m--> 337\u001b[0m obj, end \u001b[38;5;241m=\u001b[39m \u001b[38;5;28;43mself\u001b[39;49m\u001b[38;5;241;43m.\u001b[39;49m\u001b[43mraw_decode\u001b[49m\u001b[43m(\u001b[49m\u001b[43ms\u001b[49m\u001b[43m,\u001b[49m\u001b[43m \u001b[49m\u001b[43midx\u001b[49m\u001b[38;5;241;43m=\u001b[39;49m\u001b[43m_w\u001b[49m\u001b[43m(\u001b[49m\u001b[43ms\u001b[49m\u001b[43m,\u001b[49m\u001b[43m \u001b[49m\u001b[38;5;241;43m0\u001b[39;49m\u001b[43m)\u001b[49m\u001b[38;5;241;43m.\u001b[39;49m\u001b[43mend\u001b[49m\u001b[43m(\u001b[49m\u001b[43m)\u001b[49m\u001b[43m)\u001b[49m\n\u001b[1;32m    338\u001b[0m end \u001b[38;5;241m=\u001b[39m _w(s, end)\u001b[38;5;241m.\u001b[39mend()\n",
      "File \u001b[0;32m~/anaconda3/envs/swe_24_1/lib/python3.11/json/decoder.py:355\u001b[0m, in \u001b[0;36mJSONDecoder.raw_decode\u001b[0;34m(self, s, idx)\u001b[0m\n\u001b[1;32m    354\u001b[0m \u001b[38;5;28;01mexcept\u001b[39;00m \u001b[38;5;167;01mStopIteration\u001b[39;00m \u001b[38;5;28;01mas\u001b[39;00m err:\n\u001b[0;32m--> 355\u001b[0m     \u001b[38;5;28;01mraise\u001b[39;00m JSONDecodeError(\u001b[38;5;124m\"\u001b[39m\u001b[38;5;124mExpecting value\u001b[39m\u001b[38;5;124m\"\u001b[39m, s, err\u001b[38;5;241m.\u001b[39mvalue) \u001b[38;5;28;01mfrom\u001b[39;00m \u001b[38;5;28;01mNone\u001b[39;00m\n\u001b[1;32m    356\u001b[0m \u001b[38;5;28;01mreturn\u001b[39;00m obj, end\n",
      "\u001b[0;31mJSONDecodeError\u001b[0m: Expecting value: line 1 column 1 (char 0)",
      "\nDuring handling of the above exception, another exception occurred:\n",
      "\u001b[0;31mJSONDecodeError\u001b[0m                           Traceback (most recent call last)",
      "Cell \u001b[0;32mIn[16], line 3\u001b[0m\n\u001b[1;32m      1\u001b[0m \u001b[38;5;66;03m# Example: Streaming chat completion\u001b[39;00m\n\u001b[1;32m      2\u001b[0m chat_api \u001b[38;5;241m=\u001b[39m ChatCompletionAPI(api_key, streaming\u001b[38;5;241m=\u001b[39m\u001b[38;5;28;01mTrue\u001b[39;00m)\n\u001b[0;32m----> 3\u001b[0m response \u001b[38;5;241m=\u001b[39m \u001b[43mchat_api\u001b[49m\u001b[38;5;241;43m.\u001b[39;49m\u001b[43mchat\u001b[49m\u001b[43m(\u001b[49m\u001b[43mmessages\u001b[49m\u001b[38;5;241;43m=\u001b[39;49m\u001b[43m[\u001b[49m\u001b[43m{\u001b[49m\u001b[38;5;124;43m\"\u001b[39;49m\u001b[38;5;124;43mrole\u001b[39;49m\u001b[38;5;124;43m\"\u001b[39;49m\u001b[43m:\u001b[49m\u001b[43m \u001b[49m\u001b[38;5;124;43m\"\u001b[39;49m\u001b[38;5;124;43muser\u001b[39;49m\u001b[38;5;124;43m\"\u001b[39;49m\u001b[43m,\u001b[49m\u001b[43m \u001b[49m\u001b[38;5;124;43m\"\u001b[39;49m\u001b[38;5;124;43mcontent\u001b[39;49m\u001b[38;5;124;43m\"\u001b[39;49m\u001b[43m:\u001b[49m\u001b[43m \u001b[49m\u001b[38;5;124;43m\"\u001b[39;49m\u001b[38;5;124;43mHello!\u001b[39;49m\u001b[38;5;124;43m\"\u001b[39;49m\u001b[43m}\u001b[49m\u001b[43m]\u001b[49m\u001b[43m,\u001b[49m\u001b[43m \u001b[49m\u001b[43muse_context\u001b[49m\u001b[38;5;241;43m=\u001b[39;49m\u001b[38;5;28;43;01mFalse\u001b[39;49;00m\u001b[43m)\u001b[49m\n\u001b[1;32m      4\u001b[0m \u001b[38;5;28mprint\u001b[39m(response)\n",
      "Cell \u001b[0;32mIn[13], line 19\u001b[0m, in \u001b[0;36mChatCompletionAPI.chat\u001b[0;34m(self, messages, **kwargs)\u001b[0m\n\u001b[1;32m     17\u001b[0m \u001b[38;5;28;01mdef\u001b[39;00m \u001b[38;5;21mchat\u001b[39m(\u001b[38;5;28mself\u001b[39m, messages, \u001b[38;5;241m*\u001b[39m\u001b[38;5;241m*\u001b[39mkwargs):\n\u001b[1;32m     18\u001b[0m     data \u001b[38;5;241m=\u001b[39m {\u001b[38;5;124m'\u001b[39m\u001b[38;5;124mmessages\u001b[39m\u001b[38;5;124m'\u001b[39m: messages, \u001b[38;5;124m'\u001b[39m\u001b[38;5;124mstream\u001b[39m\u001b[38;5;124m'\u001b[39m: \u001b[38;5;28mself\u001b[39m\u001b[38;5;241m.\u001b[39mstreaming, \u001b[38;5;241m*\u001b[39m\u001b[38;5;241m*\u001b[39mkwargs}\n\u001b[0;32m---> 19\u001b[0m     \u001b[38;5;28;01mreturn\u001b[39;00m \u001b[38;5;28;43mself\u001b[39;49m\u001b[38;5;241;43m.\u001b[39;49m\u001b[43mmake_request\u001b[49m\u001b[43m(\u001b[49m\u001b[38;5;28;43mself\u001b[39;49m\u001b[38;5;241;43m.\u001b[39;49m\u001b[43mendpoint\u001b[49m\u001b[43m,\u001b[49m\u001b[43m \u001b[49m\u001b[43mdata\u001b[49m\u001b[43m)\u001b[49m\n",
      "Cell \u001b[0;32mIn[12], line 15\u001b[0m, in \u001b[0;36mGPTAPI.make_request\u001b[0;34m(self, endpoint, data)\u001b[0m\n\u001b[1;32m     10\u001b[0m headers \u001b[38;5;241m=\u001b[39m {\n\u001b[1;32m     11\u001b[0m     \u001b[38;5;124m'\u001b[39m\u001b[38;5;124mAuthorization\u001b[39m\u001b[38;5;124m'\u001b[39m: \u001b[38;5;124mf\u001b[39m\u001b[38;5;124m'\u001b[39m\u001b[38;5;124mBearer \u001b[39m\u001b[38;5;132;01m{\u001b[39;00m\u001b[38;5;28mself\u001b[39m\u001b[38;5;241m.\u001b[39mapi_key\u001b[38;5;132;01m}\u001b[39;00m\u001b[38;5;124m'\u001b[39m,\n\u001b[1;32m     12\u001b[0m     \u001b[38;5;124m'\u001b[39m\u001b[38;5;124mContent-Type\u001b[39m\u001b[38;5;124m'\u001b[39m: \u001b[38;5;124m'\u001b[39m\u001b[38;5;124mapplication/json\u001b[39m\u001b[38;5;124m'\u001b[39m\n\u001b[1;32m     13\u001b[0m }\n\u001b[1;32m     14\u001b[0m response \u001b[38;5;241m=\u001b[39m requests\u001b[38;5;241m.\u001b[39mpost(\u001b[38;5;124mf\u001b[39m\u001b[38;5;124m'\u001b[39m\u001b[38;5;132;01m{\u001b[39;00m\u001b[38;5;28mself\u001b[39m\u001b[38;5;241m.\u001b[39mbase_url\u001b[38;5;132;01m}\u001b[39;00m\u001b[38;5;124m/\u001b[39m\u001b[38;5;132;01m{\u001b[39;00mendpoint\u001b[38;5;132;01m}\u001b[39;00m\u001b[38;5;124m'\u001b[39m, json\u001b[38;5;241m=\u001b[39mdata, headers\u001b[38;5;241m=\u001b[39mheaders)\n\u001b[0;32m---> 15\u001b[0m \u001b[38;5;28;01mreturn\u001b[39;00m \u001b[43mresponse\u001b[49m\u001b[38;5;241;43m.\u001b[39;49m\u001b[43mjson\u001b[49m\u001b[43m(\u001b[49m\u001b[43m)\u001b[49m\n",
      "File \u001b[0;32m~/anaconda3/envs/swe_24_1/lib/python3.11/site-packages/requests/models.py:975\u001b[0m, in \u001b[0;36mResponse.json\u001b[0;34m(self, **kwargs)\u001b[0m\n\u001b[1;32m    971\u001b[0m     \u001b[38;5;28;01mreturn\u001b[39;00m complexjson\u001b[38;5;241m.\u001b[39mloads(\u001b[38;5;28mself\u001b[39m\u001b[38;5;241m.\u001b[39mtext, \u001b[38;5;241m*\u001b[39m\u001b[38;5;241m*\u001b[39mkwargs)\n\u001b[1;32m    972\u001b[0m \u001b[38;5;28;01mexcept\u001b[39;00m JSONDecodeError \u001b[38;5;28;01mas\u001b[39;00m e:\n\u001b[1;32m    973\u001b[0m     \u001b[38;5;66;03m# Catch JSON-related errors and raise as requests.JSONDecodeError\u001b[39;00m\n\u001b[1;32m    974\u001b[0m     \u001b[38;5;66;03m# This aliases json.JSONDecodeError and simplejson.JSONDecodeError\u001b[39;00m\n\u001b[0;32m--> 975\u001b[0m     \u001b[38;5;28;01mraise\u001b[39;00m RequestsJSONDecodeError(e\u001b[38;5;241m.\u001b[39mmsg, e\u001b[38;5;241m.\u001b[39mdoc, e\u001b[38;5;241m.\u001b[39mpos)\n",
      "\u001b[0;31mJSONDecodeError\u001b[0m: Expecting value: line 1 column 1 (char 0)"
     ]
    }
   ],
   "source": [
    "# Example: Streaming chat completion\n",
    "chat_api = ChatCompletionAPI(api_key, streaming=True)\n",
    "response = chat_api.chat(messages=[{\"role\": \"user\", \"content\": \"Hello!\"}], use_context=False)\n",
    "print(response)"
   ]
  },
  {
   "cell_type": "code",
   "execution_count": null,
   "metadata": {},
   "outputs": [],
   "source": []
  },
  {
   "cell_type": "code",
   "execution_count": null,
   "metadata": {},
   "outputs": [],
   "source": []
  },
  {
   "cell_type": "code",
   "execution_count": 27,
   "metadata": {},
   "outputs": [
    {
     "name": "stdout",
     "output_type": "stream",
     "text": [
      "{\"object\":\"list\",\"model\":\"private-gpt\",\"data\":[{\"object\":\"ingest.document\",\"doc_id\":\"1e236604-9b28-4e24-8b70-a9da271dd229\",\"doc_metadata\":{\"file_name\":\"course_catelog_cs_uvu.txt\"}}]}\n"
     ]
    }
   ],
   "source": [
    "import requests\n",
    "\n",
    "url = \"https://4158-161-28-242-155.ngrok-free.app/v1/ingest/file\"\n",
    "\n",
    "# Replace these paths with the actual paths to your files\n",
    "file_paths = [\n",
    "    ('/Users/qratul/uvu/courses/swe/spring_24/project/base/uvu_advisor_bot_client/data/uvu_docs/course_catelog_cs_uvu.pdf', 'application/octet-stream'),\n",
    "    ('/Users/qratul/uvu/courses/swe/spring_24/project/base/uvu_advisor_bot_client/data/uvu_docs/course_catelog_cs_uvu.txt', 'application/octet-stream')\n",
    "]\n",
    "\n",
    "files = [\n",
    "    ('file', (file_path.split('/')[-1], open(file_path, 'rb'), content_type))\n",
    "    for file_path, content_type in file_paths\n",
    "]\n",
    "\n",
    "response = requests.post(url, files=files)\n",
    "\n",
    "# Correctly close the files after the request is made\n",
    "for _, file_tuple in files:\n",
    "    file_object = file_tuple[1]\n",
    "    file_object.close()\n",
    "\n",
    "print(response.text)\n"
   ]
  },
  {
   "cell_type": "code",
   "execution_count": 33,
   "metadata": {},
   "outputs": [],
   "source": [
    "import requests\n",
    "\n",
    "class BaseAPI:\n",
    "    def __init__(self, base_url=\"https://4158-161-28-242-155.ngrok-free.app/v1\"):\n",
    "        self.base_url = base_url\n",
    "        self.headers = {\"Accept\": \"application/json\"}  # Removed \"Content-Type\" for flexibility\n",
    "\n",
    "    def _post(self, endpoint, data=None, files=None):\n",
    "        url = f\"{self.base_url}/{endpoint}\"\n",
    "        headers = self.headers\n",
    "        if files:\n",
    "            # For file uploads, do not include JSON data and let requests handle content-type\n",
    "            response = requests.post(url, files=files, headers=headers)\n",
    "        else:\n",
    "            # For JSON data, specify json parameter\n",
    "            response = requests.post(url, json=data, headers=headers)\n",
    "        try:\n",
    "            response.raise_for_status()\n",
    "            return response.json()\n",
    "        except requests.exceptions.HTTPError as e:\n",
    "            print(f\"HTTP Error: {e.response.status_code} {e.response.text}\")\n",
    "        except Exception as e:\n",
    "            print(f\"Unexpected Error: {str(e)}\")\n",
    "        return None\n",
    "\n",
    "    def _get(self, endpoint):\n",
    "        url = f\"{self.base_url}/{endpoint}\"\n",
    "        response = requests.get(url, headers=self.headers)\n",
    "        return response.json()\n"
   ]
  },
  {
   "cell_type": "code",
   "execution_count": null,
   "metadata": {},
   "outputs": [],
   "source": [
    "class IngestAPI(BaseAPI):\n",
    "    def ingest_file(self, file_path):\n",
    "        \"\"\"Ingest a file to a specific endpoint.\"\"\"\n",
    "        endpoint = \"ingest/file\"\n",
    "        with open(file_path, 'rb') as f:\n",
    "            files = {'file': (file_path.split('/')[-1], f)}\n",
    "            response = self._post(endpoint, files=files)\n",
    "        return response\n",
    "\n",
    "    def ingest_text(self, file_name, text):\n",
    "        \"\"\"Ingest text with a file name.\"\"\"\n",
    "        endpoint = \"ingest/text\"\n",
    "        payload = {\"file_name\": file_name, \"text\": text}\n",
    "        return self._post(endpoint, data=payload)\n",
    "\n",
    "    def list_ingest_jobs(self):\n",
    "        \"\"\"List all ingest jobs.\"\"\"\n",
    "        endpoint = \"ingest/list\"\n",
    "        return self._get(endpoint)\n"
   ]
  },
  {
   "cell_type": "code",
   "execution_count": 30,
   "metadata": {},
   "outputs": [
    {
     "name": "stdout",
     "output_type": "stream",
     "text": [
      "Making request to: https://4158-161-28-242-155.ngrok-free.app/v1/ingest/file\n",
      "{'object': 'list', 'model': 'private-gpt', 'data': [{'object': 'ingest.document', 'doc_id': '7c29f12a-1bfe-43e7-b382-5febe79fe3cb', 'doc_metadata': {'page_label': '1', 'file_name': '/Users/qratul/uvu/courses/swe/spring_24/project/base/uvu_advisor_bot_client/data/uvu_docs/course_catelog_cs_uvu.pdf'}}, {'object': 'ingest.document', 'doc_id': 'd47ea662-4fa2-4a25-bf33-652533f4817f', 'doc_metadata': {'page_label': '2', 'file_name': '/Users/qratul/uvu/courses/swe/spring_24/project/base/uvu_advisor_bot_client/data/uvu_docs/course_catelog_cs_uvu.pdf'}}, {'object': 'ingest.document', 'doc_id': '576607e7-eafd-44f5-8391-81bae0d58c85', 'doc_metadata': {'page_label': '3', 'file_name': '/Users/qratul/uvu/courses/swe/spring_24/project/base/uvu_advisor_bot_client/data/uvu_docs/course_catelog_cs_uvu.pdf'}}, {'object': 'ingest.document', 'doc_id': '3c9db033-c3d9-4102-9a9a-76c7a33ec84e', 'doc_metadata': {'page_label': '4', 'file_name': '/Users/qratul/uvu/courses/swe/spring_24/project/base/uvu_advisor_bot_client/data/uvu_docs/course_catelog_cs_uvu.pdf'}}, {'object': 'ingest.document', 'doc_id': 'd49f8e81-1c18-4b06-83a3-58a2c2cf9e54', 'doc_metadata': {'page_label': '5', 'file_name': '/Users/qratul/uvu/courses/swe/spring_24/project/base/uvu_advisor_bot_client/data/uvu_docs/course_catelog_cs_uvu.pdf'}}, {'object': 'ingest.document', 'doc_id': '75549e04-eb3c-42f4-9e70-dd3884c8721d', 'doc_metadata': {'page_label': '6', 'file_name': '/Users/qratul/uvu/courses/swe/spring_24/project/base/uvu_advisor_bot_client/data/uvu_docs/course_catelog_cs_uvu.pdf'}}, {'object': 'ingest.document', 'doc_id': 'b006696c-370a-4b22-9cc0-055eaa5403b2', 'doc_metadata': {'page_label': '7', 'file_name': '/Users/qratul/uvu/courses/swe/spring_24/project/base/uvu_advisor_bot_client/data/uvu_docs/course_catelog_cs_uvu.pdf'}}, {'object': 'ingest.document', 'doc_id': 'b23cad32-2bae-4a05-9d6a-65c423342517', 'doc_metadata': {'page_label': '8', 'file_name': '/Users/qratul/uvu/courses/swe/spring_24/project/base/uvu_advisor_bot_client/data/uvu_docs/course_catelog_cs_uvu.pdf'}}]}\n"
     ]
    },
    {
     "ename": "AttributeError",
     "evalue": "'IngestAPI' object has no attribute 'ingest_text'",
     "output_type": "error",
     "traceback": [
      "\u001b[0;31m---------------------------------------------------------------------------\u001b[0m",
      "\u001b[0;31mAttributeError\u001b[0m                            Traceback (most recent call last)",
      "Cell \u001b[0;32mIn[30], line 14\u001b[0m\n\u001b[1;32m     12\u001b[0m file_name \u001b[38;5;241m=\u001b[39m \u001b[38;5;124m\"\u001b[39m\u001b[38;5;124mcourse_catelog_cs_uvu.pdf\u001b[39m\u001b[38;5;124m\"\u001b[39m\n\u001b[1;32m     13\u001b[0m text_content \u001b[38;5;241m=\u001b[39m \u001b[38;5;124m\"\u001b[39m\u001b[38;5;124mThis is an example text content.\u001b[39m\u001b[38;5;124m\"\u001b[39m\n\u001b[0;32m---> 14\u001b[0m text_ingest_response \u001b[38;5;241m=\u001b[39m \u001b[43mingest_api\u001b[49m\u001b[38;5;241;43m.\u001b[39;49m\u001b[43mingest_text\u001b[49m(file_name, text_content)\n\u001b[1;32m     15\u001b[0m \u001b[38;5;28mprint\u001b[39m(text_ingest_response)\n\u001b[1;32m     17\u001b[0m \u001b[38;5;66;03m# Example: List ingest jobs\u001b[39;00m\n",
      "\u001b[0;31mAttributeError\u001b[0m: 'IngestAPI' object has no attribute 'ingest_text'"
     ]
    }
   ],
   "source": [
    "# Assuming the classes have been defined as per the previous instructions\n",
    "\n",
    "# Initialize the API with the base URL\n",
    "ingest_api = IngestAPI(base_url=\"https://4158-161-28-242-155.ngrok-free.app/v1\")\n",
    "\n",
    "# Example: Ingest a file\n",
    "file_path = \"/Users/qratul/uvu/courses/swe/spring_24/project/base/uvu_advisor_bot_client/data/uvu_docs/course_catelog_cs_uvu.pdf\"\n",
    "file_ingest_response = ingest_api.ingest_file(file_path)\n",
    "print(file_ingest_response)\n",
    "\n",
    "# Example: Ingest text\n",
    "file_name = \"course_catelog_cs_uvu.pdf\"\n",
    "text_content = \"This is an example text content.\"\n",
    "text_ingest_response = ingest_api.ingest_text(file_name, text_content)\n",
    "print(text_ingest_response)\n",
    "\n",
    "# Example: List ingest jobs\n",
    "list_jobs_response = ingest_api.list_ingest_jobs()\n",
    "print(list_jobs_response)\n"
   ]
  },
  {
   "cell_type": "code",
   "execution_count": 32,
   "metadata": {},
   "outputs": [
    {
     "name": "stdout",
     "output_type": "stream",
     "text": [
      "Making request to: https://4158-161-28-242-155.ngrok-free.app/v1/ingest/text\n",
      "HTTP Error: 500 Internal Server Error\n",
      "None\n"
     ]
    }
   ],
   "source": [
    "class IngestAPI(BaseAPI):\n",
    "    def ingest_file(self, file_path):\n",
    "        \"\"\"Ingest a file to a specific endpoint.\"\"\"\n",
    "        endpoint = \"ingest/file\"\n",
    "        with open(file_path, 'rb') as f:\n",
    "            files = {'file': (file_path.split('/')[-1], f)}\n",
    "            response = self._post(endpoint, files=files)\n",
    "        return response\n",
    "\n",
    "    def ingest_text(self, file_name, text):\n",
    "        \"\"\"Ingest text with a file name.\"\"\"\n",
    "        endpoint = \"ingest/text\"\n",
    "        payload = {\"file_name\": file_name, \"text\": text}\n",
    "        return self._post(endpoint, data=payload)\n",
    "\n",
    "    def list_ingest_jobs(self):\n",
    "        \"\"\"List all ingest jobs.\"\"\"\n",
    "        endpoint = \"ingest/list\"\n",
    "        return self._get(endpoint)\n",
    "    \n",
    "    \n",
    "ingest_api = IngestAPI(base_url=\"https://4158-161-28-242-155.ngrok-free.app/v1\")   \n",
    "file_name = \"course_catelog_cs_uvu.pdf\"\n",
    "text_content = \"This is an example text content.\"\n",
    "text_ingest_response = ingest_api.ingest_text(file_name, text_content)\n",
    "print(text_ingest_response)\n"
   ]
  },
  {
   "cell_type": "code",
   "execution_count": null,
   "metadata": {},
   "outputs": [],
   "source": []
  }
 ],
 "metadata": {
  "kernelspec": {
   "display_name": "swe_24_1",
   "language": "python",
   "name": "python3"
  },
  "language_info": {
   "codemirror_mode": {
    "name": "ipython",
    "version": 3
   },
   "file_extension": ".py",
   "mimetype": "text/x-python",
   "name": "python",
   "nbconvert_exporter": "python",
   "pygments_lexer": "ipython3",
   "version": "3.11.7"
  }
 },
 "nbformat": 4,
 "nbformat_minor": 2
}
